{
 "cells": [
  {
   "cell_type": "markdown",
   "metadata": {},
   "source": [
    "# Вам предстоит решать задачу классификации изображений методом логистической регрессии. \n",
    "\n",
    "В итоге вы должны получить  функцию $f(x) \\to [0,1]^{10}$, которая на вход получает картинку с написанной от руки цифрой, а на выход дает 10 вероятностей от 0 до 1 принадлежности к каждому из классов (цифре). Картинка это вектор из (8*8) = 64 чисел. Мы будем рассматривать параметрическое семейство функций $F(c)$, таких,  что если $f_с \\in F$, то она удовлетворяет нашим требованиям. Кроме того, для каждой функции  $f_c \\in F$ мы можем посчитать, насколько она хорошо работает на некотором наборе картинок - это будет функционал качества этой функции $loss(f_c, images)$. Чем он меньше, тем лучше: в идеале $loss$ будет давать $0$ в том случае, если наша функция на всех картинках, на которых нарисована цифра $i$ выдала вектор, где все числа отличны от $1$ и только на $i-м$ месте стоит $1$. Иначе это будет некоторое положительное число, которое тем больше, чем хуже работает классификатор (потеря)\n",
    "\n",
    "Итак, возьмем функцию $g(c) = loss(f_c, images)$ и будем ее минимизировать. Если мы найдем глобальный минимум, то научимся максимально качественно решать задачу классификации с помощью того семейства функций, которое мы выбрали. Глобальный минимум мы, конечно, не сможем аналитически найти, поэтому будем решать задачу минимизации методом градиентного спуска."
   ]
  },
  {
   "cell_type": "markdown",
   "metadata": {},
   "source": [
    "# Возьмем датасет нарисованных от руки картинок"
   ]
  },
  {
   "cell_type": "code",
   "execution_count": 1,
   "metadata": {},
   "outputs": [
    {
     "name": "stderr",
     "output_type": "stream",
     "text": [
      "/home/user/study/OptimizationMethods/lin_prog/lib/python3.6/site-packages/sklearn/cross_validation.py:41: DeprecationWarning: This module was deprecated in version 0.18 in favor of the model_selection module into which all the refactored classes and functions are moved. Also note that the interface of the new CV iterators are different from that of this module. This module will be removed in 0.20.\n",
      "  \"This module will be removed in 0.20.\", DeprecationWarning)\n"
     ]
    }
   ],
   "source": [
    "import numpy as np \n",
    "import matplotlib.pyplot as plt\n",
    "%matplotlib inline\n",
    "\n",
    "import math\n",
    "from sklearn.datasets import load_digits\n",
    "from sklearn.cross_validation import train_test_split\n",
    "import tqdm\n",
    "\n",
    "digits = load_digits()"
   ]
  },
  {
   "cell_type": "code",
   "execution_count": 2,
   "metadata": {},
   "outputs": [
    {
     "data": {
      "text/plain": [
       "(1797, 64)"
      ]
     },
     "execution_count": 2,
     "metadata": {},
     "output_type": "execute_result"
    }
   ],
   "source": [
    "digits.data.shape"
   ]
  },
  {
   "cell_type": "markdown",
   "metadata": {},
   "source": [
    "# Пример содержимого датасета"
   ]
  },
  {
   "cell_type": "code",
   "execution_count": 3,
   "metadata": {},
   "outputs": [
    {
     "data": {
      "image/png": "[encoded data removed]",
      "text/plain": [
       "<matplotlib.figure.Figure at 0x7f1d4659f710>"
      ]
     },
     "metadata": {},
     "output_type": "display_data"
    }
   ],
   "source": [
    "plt.figure(figsize=(20, 4))\n",
    "\n",
    "for index, (image, label) in enumerate(zip(digits.data[0:5], digits.target[0:5])):\n",
    "    plt.subplot(1, 5, index+1)\n",
    "    plt.imshow(np.reshape(image, (8, 8)), cmap=plt.cm.gray)\n",
    "    plt.title('Training: %i\\n' % label, fontsize = 20)"
   ]
  },
  {
   "cell_type": "markdown",
   "metadata": {},
   "source": [
    "# Разделим датасет на 2 части - train и validate\n",
    "1. На первой мы будем решать оптимизационную задачу - искать такую функцию, которая по картинке выдает правильную цифру. \n",
    "2. На второй будем независимо проверять, насколько качественно работает наша функция\n",
    "\n",
    "Это необходимо для того, чтобы понимать, насколько наша функция реально умеет решать поставленную задачу: понимать, где какая цифра. У нас ограниченная выборка - всего 1797 картинок. Но в реальности нарисованных цифр может быть значительно больше! Если даже наша функция безошибочно работает на всех 1797 картинках, но ошибается вне - это плохо. Обычно график обучения должен выглядит примерно так, если зеленое - обучающая выборка, а красное - валидационная"
   ]
  },
  {
   "cell_type": "code",
   "execution_count": 4,
   "metadata": {},
   "outputs": [
    {
     "data": {
      "image/png": "[encoded data removed]",
      "text/plain": [
       "<matplotlib.figure.Figure at 0x7f1d46297cf8>"
      ]
     },
     "metadata": {},
     "output_type": "display_data"
    }
   ],
   "source": [
    "plt.plot(\n",
    "    [1/math.log(i+2) for i in range(100)], \n",
    "    color='green', \n",
    "    label='train'\n",
    ")\n",
    "\n",
    "plt.plot(\n",
    "    [1/math.log(i+2)*1.1+( (i/50.0-1)**2./5. if i>50 else 0.) for i in range(100)],\n",
    "    color='red',\n",
    "    label='validate')\n",
    "\n",
    "plt.xlabel('Gradient descent iteration')\n",
    "plt.ylabel('Loss')\n",
    "plt.legend()\n",
    "plt.show()"
   ]
  },
  {
   "cell_type": "markdown",
   "metadata": {},
   "source": [
    "То есть с каждым шагом мы уменьшаем наш loss на обучающей выборке за счет градиентного спуска, но в какой-то момент функция может начать хорошо работать только на обучающей выборке. Этот эффект (в данном примере около 55 итерации по оси x) назвается переобучением."
   ]
  },
  {
   "cell_type": "markdown",
   "metadata": {},
   "source": [
    "# Вернемся к задаче\n",
    "## Преобразуем числа от 0 до 9 в вектора из 10 элементов, где на i-m месте стоит 1, если цифра равна i и 0 иначе. \n",
    "\n",
    "## Также нормализуем картинки: все пиксели - это числа от 0 до 16. Сделаем их от -1 до 1, это улучшит качество нашей модели"
   ]
  },
  {
   "cell_type": "code",
   "execution_count": 5,
   "metadata": {
    "collapsed": true
   },
   "outputs": [],
   "source": [
    "def one_hot(y, n_classes):\n",
    "    # делаем вектор из 10 координат с 0 везде кроме правильного ответа\n",
    "    tmp = np.zeros(\n",
    "        (len(y), n_classes), \n",
    "        dtype=np.uint8\n",
    "    )\n",
    "    tmp[range(len(tmp)), y] = 1\n",
    "    return tmp\n",
    "\n",
    "x_train, x_test, y_train, y_test = train_test_split(\n",
    "    (digits.data - 8) / 8, \n",
    "    one_hot(digits.target, 10),\n",
    "    test_size=0.33, \n",
    "    random_state=0\n",
    ")"
   ]
  },
  {
   "cell_type": "markdown",
   "metadata": {},
   "source": [
    "# Задание: реализовать методом градиентного спуска логистическую регрессию. Начиная с этой ячейки и ниже разрешено использовать только стандартные функции  python и библиотеки numpy и  matplotlib"
   ]
  },
  {
   "cell_type": "markdown",
   "metadata": {},
   "source": [
    "Для каждой картинки (картинка представляет из себя вектор $x \\in [-1, 1]^{64}$) мы хотим найти вектор $p = (p_0,\\ldots,p_{9}) \\in [0, 1]^{10}$, вероятностей, такой, что $p_i$ - вероятность того, что на картинка цифра $i$.\n",
    "\n",
    "Реализуя логистическую регрессию, мы хотим приближать вероятности к их настоящему распределению. \n",
    "\n",
    "Выражение выдает ответ вида \n",
    "$$\n",
    "A x + b\n",
    "$$\n",
    "\n",
    "\n",
    "где $x$ - наш вектор картинки, а результат - числовой вектор размерности $10$ с какими-то числами (в сумме не обязательно дают единицу). Для того, чтобы эти числа стали вероятностями от 0 до 1, реализуем функцию \n",
    "$$\n",
    "softmax(x) = \\frac{e^x}{\\sum(e^x)}\n",
    "$$\n",
    "и полученные значения будут как раз давать в сумме 1 и ими мы будем приближать вероятности. \n",
    "\n",
    "Оценивать качество нашей модели будем с помощью кросс-энтропии, см https://en.wikipedia.org/wiki/Cross_entropy .\n",
    "Пусть $L$ - функция потерь, тогда $L$ вычисляется по предсказанию $p$ и вектору-цифре $y$ по закону:\n",
    "$$ L = -\\sum_{i=0}^{9} y_i \\cdot \\ln{p_i}$$"
   ]
  },
  {
   "cell_type": "code",
   "execution_count": 6,
   "metadata": {
    "collapsed": true
   },
   "outputs": [],
   "source": [
    "def softmax(W, b, x):\n",
    "    if len(x.shape) >= 2: # случай набора векторов x\n",
    "        tmp = np.dot(x, W.T) + b\n",
    "        # Следующая строка не меняет результата, но улучшает точность вычислений в предельных случаях\n",
    "        tmp -= tmp.max(axis=1)[:, np.newaxis]\n",
    "        tmp = np.exp(tmp)\n",
    "        return (tmp.T / tmp.sum(axis=1)).T\n",
    "    else: # случай одного вектора x \n",
    "        tmp = np.dot(x, W.T) + b\n",
    "        # Следующая строка не меняет результата, но улучшает точность вычислений в предельных случаях\n",
    "        tmp -= np.max(tmp)\n",
    "        tmp = np.exp(tmp)\n",
    "        return (tmp.T / tmp.sum()).T\n",
    "\n",
    "# кросс-энтропия от предсказанного вектора pred и данного вектора y (или целого набора векторов pred и y)\n",
    "def loss(y, pred):\n",
    "    if len(y.shape) == 1: # случай двух векторов\n",
    "        mask = np.ma.log(pred).filled(0)\n",
    "        return -np.sum(y * mask)\n",
    "    else: # случай двух наборов векторов\n",
    "        mask = np.ma.log(pred).filled(0)\n",
    "        return -np.sum(y * mask) / y.shape[0]"
   ]
  },
  {
   "cell_type": "markdown",
   "metadata": {},
   "source": [
    "# В данной точке x нужно научиться считать градиент. Выведите правила и посчитайте градиент в точке. Для того, чтобы выбирать градиент по всем точкам, можно его усреднить."
   ]
  },
  {
   "cell_type": "markdown",
   "metadata": {},
   "source": [
    "Параметры, которые мы можем варьировать для уменьшения функции потерь - это матрица $A = (a_{ij})$ и вектор $b$. Обозначим \n",
    "$$t = Ax + b,$$\n",
    "Тогда $p_i = softmax(t_i)$, в свою очередь функция потерь $L$ - функция вектора-предсказания $p$ и настоящего числа, изображенного на данной картинке, то есть вектора $y$. Пусть для удобства $A_i$ - это $i$-я строка матрицы $A$ ($A \\in Mat_{10 \\times 64}$). Тогда $t_k = A_k x + b_k$. Предварительно вычислим некоторые частные производные:\n",
    "$$\\frac{\\partial t_k}{\\partial a_{ij}} =  \n",
    "    \\begin{cases}\n",
    "        x_j,\\; \\text{если}\\; k = i, \\\\\n",
    "        0,\\; \\text{если}\\; k \\neq i,\n",
    "    \\end{cases}$$\n",
    "$$\\frac{\\partial t_k}{\\partial b_{i}} =  \n",
    "    \\begin{cases}\n",
    "        1,\\; \\text{если}\\; k = i, \\\\\n",
    "        0,\\; \\text{если}\\; k \\neq i,\n",
    "    \\end{cases}$$\n",
    "$$\\frac{\\partial p_n}{\\partial t_{k}} = \n",
    "    \\frac{\\partial \\left( \\frac{e^{t_n}}{\\sum e^{t_i}} \\right)}{\\partial t_{k}} =\n",
    "    \\frac{\\partial \\left(\\frac{e^{t_n}}{\\partial t_i}\\right) \\left(\\sum e^{t_i} \\right) - e^{t_n}e^{t_k}}{\\left(\\sum e^{t_i} \\right)^2} = \n",
    "    \\begin{cases}\n",
    "        p_n (1 - p_n),\\; \\text{если}\\; n = k, \\\\\n",
    "        - p_n p_k,\\; \\text{если}\\; n \\neq k,\n",
    "    \\end{cases}$$\n",
    "Теперь перейдем к вычислению частных производных, входящих в градиент в явном виде:\n",
    "$$\\frac{\\partial L}{\\partial a_{ij}} =\n",
    "    \\sum_{n = 0}^{9} \\frac{\\partial L}{\\partial p_n} \\frac{\\partial p_n}{\\partial a_{ij}} =\n",
    "    \\sum_{n = 0}^{9} \\left( - \\frac{y_n}{p_n} \\right) \\frac{\\partial p_n}{\\partial a_{ij}} =\n",
    "    -\\sum_{n = 0}^{9} \\left( \\frac{y_n}{p_n} \\right) \\sum_{k = 0}^{9} \\frac{\\partial p_n}{\\partial t_k} \\frac{\\partial t_k}{\\partial a_{ij}} =\n",
    "    -\\sum_{n = 0}^{9} \\left( \\frac{y_n}{p_n} \\right) \\frac{\\partial p_n}{\\partial t_i} \\frac{\\partial t_i}{\\partial a_{ij}} = \\\\\n",
    "    = -\\sum_{n = 0}^{9} \\left( \\frac{y_n}{p_n} \\right) \\frac{\\partial p_n}{\\partial t_i} x_j =\n",
    "    -x_j \\left[ \\frac{y_i}{p_i} \\cdot p_i(1 - p_i) + \\sum_{n \\neq i} \\frac{y_n}{p_n} \\cdot (-p_n p_i) \\right] = \\\\\n",
    "    = -x_j \\left[ y_i \\cdot (1 - p_i) + \\sum_{n \\neq i} y_n \\cdot (- p_i) \\right]\n",
    "    x_j \\left[p_i \\sum_{n =0}^{9} y_n  - y_i \\right] = x_j (p_i - y_i).\n",
    "$$"
   ]
  },
  {
   "cell_type": "markdown",
   "metadata": {},
   "source": [
    "$$\\frac{\\partial L}{\\partial b_i} =\n",
    "    \\sum_{n = 0}^{9} \\frac{\\partial L}{\\partial p_n} \\frac{\\partial p_n}{\\partial b_i} =\n",
    "    \\sum_{n = 0}^{9} \\left( - \\frac{y_n}{p_n} \\right) \\frac{\\partial p_n}{\\partial b_i} =\n",
    "    -\\sum_{n = 0}^{9} \\left( \\frac{y_n}{p_n} \\right) \\sum_{k = 0}^{9} \\frac{\\partial p_n}{\\partial t_k} \\frac{\\partial t_k}{\\partial b_i} =\n",
    "    -\\sum_{n = 0}^{9} \\left( \\frac{y_n}{p_n} \\right) \\frac{\\partial p_n}{\\partial t_i} \\frac{\\partial t_i}{\\partial b_i}= \\\\\n",
    "    = -\\sum_{n = 0}^{9} \\left( \\frac{y_n}{p_n} \\right) \\frac{\\partial p_n}{\\partial t_i} \\cdot 1 =\n",
    "    - \\left[ \\frac{y_i}{p_i} \\cdot p_i(1 - p_i) + \\sum_{n \\neq i} \\frac{y_n}{p_n} \\cdot (-p_n p_i) \\right] = \\\\\n",
    "    = - \\left[ y_i \\cdot (1 - p_i) + \\sum_{n \\neq i} y_n \\cdot (- p_i) \\right]\n",
    "    \\left[p_i \\sum_{n =0}^{9} y_n  - y_i \\right] = p_i - y_i.\n",
    "$$\n",
    "В итоге, интересующие нас производные получились равны:\n",
    "$$  \\boxed{ \\frac{\\partial L}{\\partial a_{ij}} = x_j (p_i - y_i) } \\;\n",
    "    \\boxed{ \\frac{\\partial L}{\\partial b_i} = p_i - y_i }\n",
    "$$"
   ]
  },
  {
   "cell_type": "code",
   "execution_count": 7,
   "metadata": {
    "collapsed": true
   },
   "outputs": [],
   "source": [
    "# Расчитываем градиент в данной точке x. pred - наше предсказание (вектор p)\n",
    "def compute_gradients(pred, y, x):\n",
    "    dW = np.outer(pred - y, x)\n",
    "    db = pred - y\n",
    "    gradient = np.append(dW, db)\n",
    "    return gradient\n",
    "\n",
    "# Усредняем по всем точкам. x - множество точек; pred, y - соответсвующие x'ам предсказания и ответы. \n",
    "def gradients(pred, x, y):\n",
    "    grads = [ compute_gradients(a, b, c) for a, b, c in zip(pred, y, x) ]                         \n",
    "    return np.mean(grads, axis=0).T.flatten()    "
   ]
  },
  {
   "cell_type": "markdown",
   "metadata": {},
   "source": [
    "# Методом градиентного спуска с постоянным шагом минимизируйте loss на обучающей выборке."
   ]
  },
  {
   "cell_type": "code",
   "execution_count": 8,
   "metadata": {
    "collapsed": true
   },
   "outputs": [],
   "source": [
    "# Реализация градиентного спуска\n",
    "def gradient_descent_method(x_train, y_train, x_test, y_test, step, iterations):\n",
    "    # Определяем размерность параметров. Сколько их всего?\n",
    "    m = y_train[0].shape[0]\n",
    "    n = x_train[0].shape[0]\n",
    "    W = np.zeros((m, n))\n",
    "    b = np.zeros(m)\n",
    "    \n",
    "    #будем записывать среднее значение потери на каждом шаге спуска\n",
    "    losses_train=[]\n",
    "    losses_valid=[]\n",
    "    \n",
    "    #собственно сам спуск\n",
    "    for i in tqdm.tqdm(range(iterations)):\n",
    "        p_train = softmax(W, b, x_train)\n",
    "        p_test = softmax(W, b, x_test)\n",
    "        losses_train.append(loss(y_train, p_train))\n",
    "        losses_valid.append(loss(y_test, p_test))\n",
    "        direction = gradients(p_train, x_train, y_train)\n",
    "        dW = direction[:m * n].reshape((m, n))\n",
    "        db = direction[m * n:]\n",
    "        W -= step * dW\n",
    "        b -= step * db\n",
    "    return (W, b, losses_train, losses_valid)"
   ]
  },
  {
   "cell_type": "code",
   "execution_count": 9,
   "metadata": {},
   "outputs": [
    {
     "name": "stderr",
     "output_type": "stream",
     "text": [
      "100%|██████████| 2000/2000 [03:09<00:00, 10.55it/s]\n"
     ]
    }
   ],
   "source": [
    "step = 1\n",
    "iterations = 2000\n",
    "W, b, losses_train, losses_valid = gradient_descent_method(x_train, y_train, x_test, y_test, step, iterations)"
   ]
  },
  {
   "cell_type": "markdown",
   "metadata": {},
   "source": [
    "# Нарисуйте графики ошибки (loss) от номера шага градиентного спуска. Как падала ошибка на обучающей и тестовой выборках? На каком шаге ошибка на обучающей выборке оказалась минимальной?"
   ]
  },
  {
   "cell_type": "code",
   "execution_count": 10,
   "metadata": {},
   "outputs": [
    {
     "data": {
      "image/png": "[encoded data removed]",
      "text/plain": [
       "<matplotlib.figure.Figure at 0x7f1d46359e10>"
      ]
     },
     "metadata": {},
     "output_type": "display_data"
    },
    {
     "data": {
      "image/png": "[encoded data removed]",
      "text/plain": [
       "<matplotlib.figure.Figure at 0x7f1d4636dc18>"
      ]
     },
     "metadata": {},
     "output_type": "display_data"
    }
   ],
   "source": [
    "for i in range(2):\n",
    "    plt.figure(figsize=(10, 6))\n",
    "    plt.plot(range(iterations), losses_train, label='train')\n",
    "    plt.plot(range(iterations), losses_valid, label='validate')\n",
    "    plt.xlabel('Gradient descent iteration')\n",
    "    plt.ylabel('Loss')\n",
    "    if i == 1:\n",
    "        plt.ylim(0, 0.2)\n",
    "        plt.grid(True)\n",
    "    plt.legend()\n",
    "    plt.show()"
   ]
  },
  {
   "cell_type": "code",
   "execution_count": 11,
   "metadata": {},
   "outputs": [
    {
     "name": "stdout",
     "output_type": "stream",
     "text": [
      "Минимум ошибки для тестовой выборки наблюдается на 962 итерации.\n"
     ]
    }
   ],
   "source": [
    "print(u\"Минимум ошибки для тестовой выборки наблюдается на {} итерации.\".format(np.argmin(losses_valid)))"
   ]
  },
  {
   "cell_type": "markdown",
   "metadata": {},
   "source": [
    "Можно сделать вывод, что ошибка (среднее значение функции потерь) на обучающей выборке постоянно падала почти с каждым шагом градиентного метода. Для тестовой выборки функция ошибки вначале также падала, но после приблизительно 1000 итерации стала возрастать, то есть начало наблюдаться переобучение."
   ]
  },
  {
   "cell_type": "markdown",
   "metadata": {},
   "source": [
    "# Реализуйте выбор шага градиентного спуска методом Армихо. Ускорило ли использование метода Армихо с начальными параметрами\n",
    "$$ s=100, \\beta=\\alpha=0.5,$$\n",
    "где $s$ - начальный шаг, $\\beta$ - коэффициент уменьшения шага, $\\alpha$ - коэффициент в неравенстве.\n",
    "# достижение минимума на обучающей выборке по сравнению с фиксированным шагом 100? А на валидационной?"
   ]
  },
  {
   "cell_type": "code",
   "execution_count": 12,
   "metadata": {
    "collapsed": true
   },
   "outputs": [],
   "source": [
    "# Функция выбора шага градиентного спуска методом Армихо\n",
    "def armijo (W, b, x, y, dW, db, alpha=0.5, beta=0.5, s=100):\n",
    "    pred_current = softmax(W, b, x)\n",
    "    pred_next = softmax(W - s * dW, b - s * db, x)\n",
    "    gradient = np.append(W, b)\n",
    "    while loss(y, pred_next) - loss(y, pred_current) > alpha * s * (gradient * gradient).sum():\n",
    "        s *= beta\n",
    "        pred_next = softmax(W - s * dW, b - s * db, x)\n",
    "    return s"
   ]
  },
  {
   "cell_type": "code",
   "execution_count": null,
   "metadata": {
    "collapsed": true
   },
   "outputs": [],
   "source": [
    "def gradient_descent_method_armijo(x_train, y_train, x_test, y_test, iterations, alpha=0.5, beta=0.5, s=100):\n",
    "    # Определяем размерность параметров. Сколько их всего?\n",
    "    m = y_train[0].shape[0]\n",
    "    n = x_train[0].shape[0]\n",
    "    W = np.zeros((m, n))\n",
    "    b = np.zeros(m)\n",
    "    \n",
    "    #будем записывать среднее значение потери на каждом шаге спуска\n",
    "    losses_train=[]\n",
    "    losses_valid=[]\n",
    "    \n",
    "    #спуск\n",
    "    for i in tqdm.tqdm(range(iterations)):\n",
    "        p_train = softmax(W, b, x_train)\n",
    "        p_test = softmax(W, b, x_test)\n",
    "        losses_train.append(loss(y_train, p_train))\n",
    "        losses_valid.append(loss(y_test, p_test))\n",
    "        direction = gradients(p_train, x_train, y_train)\n",
    "        dW = direction[:m * n].reshape((m, n))\n",
    "        db = direction[m * n:]\n",
    "        step = armijo (W, b, x_train, y_train, dW, db, alpha, beta, s)\n",
    "        W -= step * dW\n",
    "        b -= step * db\n",
    "    return (W, b, losses_train, losses_valid)"
   ]
  },
  {
   "cell_type": "code",
   "execution_count": null,
   "metadata": {},
   "outputs": [
    {
     "name": "stderr",
     "output_type": "stream",
     "text": [
      "100%|██████████| 100/100 [00:10<00:00,  9.57it/s]\n",
      " 16%|█▌        | 16/100 [00:01<00:07, 10.79it/s]"
     ]
    }
   ],
   "source": [
    "W1, b1, losses_train1, losses_valid1 = gradient_descent_method_armijo(x_train, y_train, x_test, y_test, 100)\n",
    "W2, b2, losses_train2, losses_valid2 = gradient_descent_method(x_train, y_train, x_test, y_test, 100, 100)"
   ]
  },
  {
   "cell_type": "code",
   "execution_count": null,
   "metadata": {},
   "outputs": [],
   "source": [
    "W2, b2, losses_train2, losses_valid2 = gradient_descent_method(x_train, y_train, x_test, y_test, 100, 100)"
   ]
  },
  {
   "cell_type": "code",
   "execution_count": null,
   "metadata": {},
   "outputs": [],
   "source": [
    "losses_train2"
   ]
  },
  {
   "cell_type": "code",
   "execution_count": null,
   "metadata": {},
   "outputs": [],
   "source": [
    "for i in range(2):\n",
    "    iterations = len(losses_train1)\n",
    "    plt.figure(figsize=(10, 6))\n",
    "    plt.plot(range(iterations), losses_train1, label='train (armijo)')\n",
    "    plt.plot(range(iterations), losses_valid1, label='validate (armijo)')\n",
    "    plt.plot(range(iterations), losses_train2, label='train (constant step)')\n",
    "    plt.plot(range(iterations), losses_valid2, label='validate (constant step)')\n",
    "    plt.xlabel('Gradient descent iteration')\n",
    "    plt.ylabel('Loss')\n",
    "    if i == 1:\n",
    "        plt.ylim(0, 0.2)\n",
    "        plt.grid(True)\n",
    "    plt.legend()\n",
    "    plt.show()"
   ]
  },
  {
   "cell_type": "markdown",
   "metadata": {},
   "source": [
    "# Какую долю картинок из валидационной выборки удается предсказать правильно? Приведите примеры из валидационной выборки, где модель ошибается и где работает правильно"
   ]
  },
  {
   "cell_type": "code",
   "execution_count": null,
   "metadata": {
    "collapsed": true
   },
   "outputs": [],
   "source": [
    "def classify_sample(W, b, x, y):\n",
    "    pred = softmax(W, b, x)\n",
    "    correct = []\n",
    "    wrong = []\n",
    "    for i in range(pred.shape[0]):\n",
    "        if y[i][np.argmax(pred[i])] == 1:\n",
    "            correct.append((x[i], y[i], pred[i]))\n",
    "        else:\n",
    "            wrong.append((x[i], y[i], pred[i]))\n",
    "    return (correct, wrong)"
   ]
  },
  {
   "cell_type": "code",
   "execution_count": null,
   "metadata": {
    "collapsed": true
   },
   "outputs": [],
   "source": [
    "correct, wrong = classify_sample(W, b, x_test, y_test)"
   ]
  },
  {
   "cell_type": "code",
   "execution_count": null,
   "metadata": {},
   "outputs": [],
   "source": [
    "print(u\"Доля валидационной выборки, предсказанная правильно, равна\", len(correct) / (len(correct) + len(wrong)))"
   ]
  },
  {
   "cell_type": "code",
   "execution_count": null,
   "metadata": {},
   "outputs": [],
   "source": [
    "fig = plt.figure(figsize=(20, 4))\n",
    "plt.suptitle(u\"Примеры из валидационной выборки, где модель работает правильно\", fontsize=20)\n",
    "fig.subplots_adjust(top=0.77)\n",
    "for index, (x, y, pred) in enumerate(correct[0:5]):\n",
    "    ax = fig.add_subplot(1, 5, index + 1)\n",
    "    ax.imshow(np.reshape(x, (8, 8)), cmap=plt.cm.gray)\n",
    "    ax.set_title(u\"Цифра и предсказание: {}\\n\".format(np.argmax(pred)), fontsize=12)"
   ]
  },
  {
   "cell_type": "code",
   "execution_count": null,
   "metadata": {},
   "outputs": [],
   "source": [
    "fig = plt.figure(figsize=(20, 4))\n",
    "plt.suptitle(u\"Примеры из валидационной выборки, где модель ошибается\", fontsize=20)\n",
    "fig.subplots_adjust(top=0.72)\n",
    "for index, (x, y, pred) in enumerate(wrong[0:5]):\n",
    "    ax = fig.add_subplot(1, 5, index+1)\n",
    "    ax.imshow(np.reshape(x, (8, 8)), cmap=plt.cm.gray)\n",
    "    ax.set_title(u\"Цифра: {}\\nПредсказание: {}\\n\".format(np.argmax(y), np.argmax(pred)), fontsize=15)"
   ]
  },
  {
   "cell_type": "code",
   "execution_count": null,
   "metadata": {
    "collapsed": true
   },
   "outputs": [],
   "source": []
  }
 ],
 "metadata": {
  "kernelspec": {
   "display_name": "Python 3",
   "language": "python",
   "name": "python3"
  },
  "language_info": {
   "codemirror_mode": {
    "name": "ipython",
    "version": 3
   },
   "file_extension": ".py",
   "mimetype": "text/x-python",
   "name": "python",
   "nbconvert_exporter": "python",
   "pygments_lexer": "ipython3",
   "version": "3.6.3"
  }
 },
 "nbformat": 4,
 "nbformat_minor": 1
}
